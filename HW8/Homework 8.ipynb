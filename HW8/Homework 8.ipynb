{
 "cells": [
  {
   "cell_type": "code",
   "execution_count": 1,
   "metadata": {},
   "outputs": [],
   "source": [
    "import pandas as pd\n",
    "import numpy as np\n",
    "import matplotlib.pyplot as plt\n",
    "%matplotlib inline"
   ]
  },
  {
   "cell_type": "markdown",
   "metadata": {},
   "source": [
    "# 1. Convolutional Neural Networks applied to classification."
   ]
  },
  {
   "cell_type": "code",
   "execution_count": 2,
   "metadata": {},
   "outputs": [],
   "source": [
    "import pickle\n",
    "(train_x, train_y), (test_x, test_y) = pickle.load(open(\"mnist.pkl\", \"rb\"))"
   ]
  },
  {
   "cell_type": "code",
   "execution_count": 3,
   "metadata": {},
   "outputs": [],
   "source": [
    "train_X = np.zeros((60000,32,32))\n",
    "test_X = np.zeros((10000,32,32))\n",
    "# normalizing the data\n",
    "for i in range(60000):\n",
    "    train_X[i] = train_x[i]/np.amax(train_x[i])\n",
    "for j in range(10000):\n",
    "    test_X[j] = test_x[j]/np.amax(test_x[j])"
   ]
  },
  {
   "cell_type": "code",
   "execution_count": 4,
   "metadata": {},
   "outputs": [
    {
     "data": {
      "text/plain": [
       "(60000, 32, 32)"
      ]
     },
     "execution_count": 4,
     "metadata": {},
     "output_type": "execute_result"
    }
   ],
   "source": [
    "train_X.shape"
   ]
  },
  {
   "cell_type": "code",
   "execution_count": 5,
   "metadata": {},
   "outputs": [
    {
     "data": {
      "text/plain": [
       "(10000, 32, 32)"
      ]
     },
     "execution_count": 5,
     "metadata": {},
     "output_type": "execute_result"
    }
   ],
   "source": [
    "test_X.shape"
   ]
  },
  {
   "cell_type": "markdown",
   "metadata": {},
   "source": [
    "### Question a)"
   ]
  },
  {
   "cell_type": "markdown",
   "metadata": {},
   "source": [
    "The dimension of input is $32 \\times 32 \\times 1$\n",
    "\n",
    "\n",
    "Equation use to calculate output:\n",
    "$$\n",
    "H_{\\text {out }}=\\left[\\frac{H_{\\text {in }}+2 \\times \\text { padding }-\\operatorname{dilation} \\times(\\text { kernel_size }-1)-1}{\\text { stride }}+1\\right]\n",
    "$$"
   ]
  },
  {
   "cell_type": "code",
   "execution_count": 6,
   "metadata": {},
   "outputs": [],
   "source": [
    "Hin_a = 32"
   ]
  },
  {
   "cell_type": "code",
   "execution_count": 7,
   "metadata": {},
   "outputs": [],
   "source": [
    "def dimCalc(Hin,padding,dilation,kernel_size,stride):\n",
    "    Hout = (Hin + 2*padding - dilation*(kernel_size - 1) - 1)/stride + 1\n",
    "    return Hout"
   ]
  },
  {
   "cell_type": "markdown",
   "metadata": {},
   "source": [
    "### i)"
   ]
  },
  {
   "cell_type": "code",
   "execution_count": 8,
   "metadata": {},
   "outputs": [],
   "source": [
    "padding_ai = 0\n",
    "dilation_ai = 1\n",
    "kernel_size_ai = 2\n",
    "stride_ai = 2"
   ]
  },
  {
   "cell_type": "code",
   "execution_count": 9,
   "metadata": {},
   "outputs": [
    {
     "data": {
      "text/plain": [
       "16.0"
      ]
     },
     "execution_count": 9,
     "metadata": {},
     "output_type": "execute_result"
    }
   ],
   "source": [
    "Hout_ai = dimCalc(Hin_a,padding_ai,dilation_ai,\n",
    "                  kernel_size_ai,stride_ai)\n",
    "Hout_ai"
   ]
  },
  {
   "cell_type": "markdown",
   "metadata": {},
   "source": [
    "Because the number of filters are 33, the out put for question a part i is $16 \\times 16 \\times 1 \\times 33$ "
   ]
  },
  {
   "cell_type": "markdown",
   "metadata": {},
   "source": [
    "### ii)"
   ]
  },
  {
   "cell_type": "code",
   "execution_count": 10,
   "metadata": {},
   "outputs": [],
   "source": [
    "padding_aii = 1\n",
    "dilation_aii = 1\n",
    "kernel_size_aii = 3\n",
    "stride_aii = 1"
   ]
  },
  {
   "cell_type": "code",
   "execution_count": 11,
   "metadata": {},
   "outputs": [
    {
     "data": {
      "text/plain": [
       "16.0"
      ]
     },
     "execution_count": 11,
     "metadata": {},
     "output_type": "execute_result"
    }
   ],
   "source": [
    "Hout_aii = dimCalc(Hout_ai,padding_aii,dilation_aii,\n",
    "                   kernel_size_aii,stride_aii)\n",
    "Hout_aii"
   ]
  },
  {
   "cell_type": "markdown",
   "metadata": {},
   "source": [
    "Because the number of filters 55, the out put of question a part ii is $16 \\times 16 \\times 1 \\times 55$"
   ]
  },
  {
   "cell_type": "markdown",
   "metadata": {},
   "source": [
    "### iii)"
   ]
  },
  {
   "cell_type": "code",
   "execution_count": 12,
   "metadata": {},
   "outputs": [],
   "source": [
    "padding_aiii = 1\n",
    "dilation_aiii = 1\n",
    "kernel_size_aiii = 3\n",
    "stride_aiii = 1"
   ]
  },
  {
   "cell_type": "code",
   "execution_count": 13,
   "metadata": {},
   "outputs": [
    {
     "data": {
      "text/plain": [
       "16.0"
      ]
     },
     "execution_count": 13,
     "metadata": {},
     "output_type": "execute_result"
    }
   ],
   "source": [
    "Hout_aiii = dimCalc(Hout_aii,padding_aiii,dilation_aiii,\n",
    "                    kernel_size_aiii,stride_aiii)\n",
    "Hout_aiii"
   ]
  },
  {
   "cell_type": "markdown",
   "metadata": {},
   "source": [
    "Followed by a Max Pooling with filter size of 2x2 and stride 2"
   ]
  },
  {
   "cell_type": "code",
   "execution_count": 14,
   "metadata": {},
   "outputs": [],
   "source": [
    "padding_aiii_maxpol = 0\n",
    "dilation_aiii_maxpol = 1\n",
    "kernel_size_aiii_maxpol = 2\n",
    "stride_aiii_maxpol = 2"
   ]
  },
  {
   "cell_type": "code",
   "execution_count": 15,
   "metadata": {},
   "outputs": [
    {
     "data": {
      "text/plain": [
       "8.0"
      ]
     },
     "execution_count": 15,
     "metadata": {},
     "output_type": "execute_result"
    }
   ],
   "source": [
    "Hout_aiii = dimCalc(Hout_aiii,padding_aiii_maxpol,dilation_aiii_maxpol,\n",
    "                    kernel_size_aiii_maxpol,stride_aiii_maxpol)\n",
    "Hout_aiii"
   ]
  },
  {
   "cell_type": "markdown",
   "metadata": {},
   "source": [
    "Because the number of filters 77, the out put of question a part iii is $8 \\times 8 \\times 1 \\times 77$"
   ]
  },
  {
   "cell_type": "markdown",
   "metadata": {},
   "source": [
    "### Question b)"
   ]
  },
  {
   "cell_type": "code",
   "execution_count": 16,
   "metadata": {},
   "outputs": [],
   "source": [
    "Hin_b = 32"
   ]
  },
  {
   "cell_type": "markdown",
   "metadata": {},
   "source": [
    "### i)"
   ]
  },
  {
   "cell_type": "code",
   "execution_count": 17,
   "metadata": {},
   "outputs": [],
   "source": [
    "padding_bi = 0\n",
    "dilation_bi = 1\n",
    "kernel_size_bi = 2\n",
    "stride_bi = 2"
   ]
  },
  {
   "cell_type": "code",
   "execution_count": 18,
   "metadata": {},
   "outputs": [
    {
     "data": {
      "text/plain": [
       "16.0"
      ]
     },
     "execution_count": 18,
     "metadata": {},
     "output_type": "execute_result"
    }
   ],
   "source": [
    "Hout_bi = dimCalc(Hin_b,padding_bi,dilation_bi,\n",
    "                  kernel_size_bi,stride_bi)\n",
    "Hout_bi"
   ]
  },
  {
   "cell_type": "markdown",
   "metadata": {},
   "source": [
    "Because the number of filters are 33, the out put for question b part i is $16 \\times 16 \\times 3 \\times 33$ "
   ]
  },
  {
   "cell_type": "markdown",
   "metadata": {},
   "source": [
    "### ii)"
   ]
  },
  {
   "cell_type": "code",
   "execution_count": 19,
   "metadata": {},
   "outputs": [],
   "source": [
    "padding_bii = 1\n",
    "dilation_bii = 1\n",
    "kernel_size_bii = 3\n",
    "stride_bii = 1"
   ]
  },
  {
   "cell_type": "code",
   "execution_count": 20,
   "metadata": {},
   "outputs": [
    {
     "data": {
      "text/plain": [
       "16.0"
      ]
     },
     "execution_count": 20,
     "metadata": {},
     "output_type": "execute_result"
    }
   ],
   "source": [
    "Hout_bii = dimCalc(Hout_bi,padding_bii,dilation_bii,\n",
    "                   kernel_size_bii,stride_bii)\n",
    "Hout_bii"
   ]
  },
  {
   "cell_type": "markdown",
   "metadata": {},
   "source": [
    "Followed by a max pooling layer of kernel size 3x3, stride of 1, padding of 0"
   ]
  },
  {
   "cell_type": "code",
   "execution_count": 21,
   "metadata": {},
   "outputs": [],
   "source": [
    "padding_bii_maxpol = 0\n",
    "dilation_bii_maxpol = 1\n",
    "kernel_size_bii_maxpol = 3\n",
    "stride_bii_maxpol = 1"
   ]
  },
  {
   "cell_type": "code",
   "execution_count": 22,
   "metadata": {},
   "outputs": [
    {
     "data": {
      "text/plain": [
       "14.0"
      ]
     },
     "execution_count": 22,
     "metadata": {},
     "output_type": "execute_result"
    }
   ],
   "source": [
    "Hout_bii = dimCalc(Hout_bii,padding_bii_maxpol,dilation_bii_maxpol,\n",
    "                   kernel_size_bii_maxpol,stride_bii_maxpol)\n",
    "Hout_bii"
   ]
  },
  {
   "cell_type": "markdown",
   "metadata": {},
   "source": [
    "Because the number of filters 55, the out put of question b part ii is $14 \\times 14 \\times 3 \\times 55$"
   ]
  },
  {
   "cell_type": "markdown",
   "metadata": {},
   "source": [
    "### iii)"
   ]
  },
  {
   "cell_type": "code",
   "execution_count": 23,
   "metadata": {},
   "outputs": [],
   "source": [
    "padding_biii = 1\n",
    "dilation_biii = 1\n",
    "kernel_size_biii = 3\n",
    "stride_biii = 1"
   ]
  },
  {
   "cell_type": "code",
   "execution_count": 24,
   "metadata": {},
   "outputs": [
    {
     "data": {
      "text/plain": [
       "14.0"
      ]
     },
     "execution_count": 24,
     "metadata": {},
     "output_type": "execute_result"
    }
   ],
   "source": [
    "Hout_biii = dimCalc(Hout_bii,padding_biii,dilation_biii,\n",
    "                    kernel_size_biii,stride_biii)\n",
    "Hout_biii"
   ]
  },
  {
   "cell_type": "markdown",
   "metadata": {},
   "source": [
    "Followed by a Max Pooling with filter size of 2x2 and stride 2"
   ]
  },
  {
   "cell_type": "code",
   "execution_count": 25,
   "metadata": {},
   "outputs": [],
   "source": [
    "padding_biii_maxpol = 0\n",
    "dilation_biii_maxpol = 1\n",
    "kernel_size_biii_maxpol = 2\n",
    "stride_biii_maxpol = 2"
   ]
  },
  {
   "cell_type": "code",
   "execution_count": 26,
   "metadata": {},
   "outputs": [
    {
     "data": {
      "text/plain": [
       "7.0"
      ]
     },
     "execution_count": 26,
     "metadata": {},
     "output_type": "execute_result"
    }
   ],
   "source": [
    "Hout_biii = dimCalc(Hout_biii,padding_biii_maxpol,dilation_biii_maxpol,\n",
    "                    kernel_size_biii_maxpol,stride_biii_maxpol)\n",
    "Hout_biii"
   ]
  },
  {
   "cell_type": "markdown",
   "metadata": {},
   "source": [
    "Because the number of filters 77, the out put of question b part iii is $7 \\times 7 \\times 3 \\times 77$"
   ]
  },
  {
   "cell_type": "markdown",
   "metadata": {},
   "source": [
    "### Question c)"
   ]
  },
  {
   "cell_type": "code",
   "execution_count": 27,
   "metadata": {},
   "outputs": [],
   "source": [
    "from functools import wraps\n",
    "from time import time\n",
    "\n",
    "def timing(f):\n",
    "    @wraps(f)\n",
    "    def wrap(*args, **kw):\n",
    "        ts = time()\n",
    "        result = f(*args, **kw)\n",
    "        te = time()\n",
    "        print('func:%r  took: %2.4f sec' % (f.__name__,  te-ts))\n",
    "        return result\n",
    "    return wrap"
   ]
  },
  {
   "cell_type": "code",
   "execution_count": 28,
   "metadata": {},
   "outputs": [],
   "source": [
    "from torch.optim import SGD, Adam\n",
    "import torch.nn.functional as F\n",
    "import random\n",
    "from tqdm import tqdm\n",
    "import math\n",
    "from sklearn.model_selection import train_test_split\n",
    "\n",
    "def create_chunks(complete_list, chunk_size=None, num_chunks=None):\n",
    "    '''\n",
    "    Cut a list into multiple chunks, each having chunk_size (the last chunk might be less than chunk_size) \n",
    "    or having a total of num_chunk chunks\n",
    "    '''\n",
    "    chunks = []\n",
    "    if num_chunks is None:\n",
    "        num_chunks = math.ceil(len(complete_list) / chunk_size)\n",
    "    elif chunk_size is None:\n",
    "        chunk_size = math.ceil(len(complete_list) / num_chunks)\n",
    "    for i in range(num_chunks):\n",
    "        chunks.append(complete_list[i * chunk_size: (i + 1) * chunk_size])\n",
    "    return chunks\n",
    "\n",
    "class Trainer():\n",
    "    def __init__(self, model, optimizer_type, learning_rate, epoch, batch_size, input_transform=lambda x: x,):\n",
    "        \"\"\" \n",
    "        The class for training the model\n",
    "        model: nn.Module\n",
    "            A pytorch model\n",
    "        optimizer_type: 'adam' or 'sgd'\n",
    "        learning_rate: float\n",
    "        epoch: int\n",
    "        batch_size: int\n",
    "        input_transform: func\n",
    "            transforming input. Can do reshape here\n",
    "        \"\"\"\n",
    "        self.model = model\n",
    "        if optimizer_type == \"sgd\":\n",
    "            self.optimizer = SGD(model.parameters(), learning_rate,momentum=0.9)\n",
    "        elif optimizer_type == \"adam\":\n",
    "            self.optimizer = Adam(model.parameters(), learning_rate)\n",
    "            \n",
    "        self.epoch = epoch\n",
    "        self.batch_size = batch_size\n",
    "        self.input_transform = input_transform\n",
    "\n",
    "\n",
    "    @timing\n",
    "    def train(self, inputs, outputs, val_inputs, val_outputs,early_stop=False,l2=False,silent=False):\n",
    "        \"\"\" \n",
    "        train self.model with specified arguments\n",
    "        inputs: np.array, The shape of input_transform(input) should be (ndata,nfeatures)\n",
    "        outputs: np.array shape (ndata,)\n",
    "        val_nputs: np.array, The shape of input_transform(val_input) should be (ndata,nfeatures)\n",
    "        val_outputs: np.array shape (ndata,)\n",
    "        early_stop: bool\n",
    "        l2: bool\n",
    "        silent: bool. Controls whether or not to print the train and val error during training\n",
    "        \"\"\"\n",
    "        inputs = self.input_transform(torch.tensor(inputs, dtype=torch.float))\n",
    "        outputs = torch.tensor(outputs, dtype=torch.int64)\n",
    "        val_inputs = self.input_transform(torch.tensor(val_inputs, dtype=torch.float))\n",
    "        val_outputs = torch.tensor(val_outputs, dtype=torch.int64)\n",
    "\n",
    "        losses = []\n",
    "        accuracies = []\n",
    "        val_losses = []\n",
    "        val_accuracies = []\n",
    "        weights = self.model.state_dict()\n",
    "        lowest_val_loss = np.inf\n",
    "        \n",
    "        for n_epoch in tqdm(range(self.epoch), leave=False):\n",
    "            self.model.train()\n",
    "            batch_indices = list(range(inputs.shape[0]))\n",
    "            random.shuffle(batch_indices)\n",
    "            batch_indices = create_chunks(batch_indices, chunk_size=self.batch_size)\n",
    "            epoch_loss = 0\n",
    "            epoch_acc = 0\n",
    "            for batch in batch_indices:\n",
    "                batch_importance = len(batch) / len(outputs)\n",
    "                batch_input = inputs[batch]\n",
    "                batch_output = outputs[batch]\n",
    "                batch_predictions = self.model(batch_input)\n",
    "                loss = nn.CrossEntropyLoss()(batch_predictions, batch_output)\n",
    "                if l2:\n",
    "                    ### Compute the loss with L2 regularization ###\n",
    "                    l2_lambda = 1e-5\n",
    "                    l2_norm = sum([p.pow(2.0).sum() for p in model.parameter()])\n",
    "                    loss += l2_norm * l2_lambda\n",
    "                self.optimizer.zero_grad()\n",
    "                loss.backward()\n",
    "                self.optimizer.step()\n",
    "                epoch_loss += loss.detach().cpu().item() * batch_importance\n",
    "                acc = np.true_divide(torch.sum(torch.argmax(batch_predictions, axis=-1) == batch_output),len(batch_predictions))\n",
    "                epoch_acc += acc.detach().cpu().item() * batch_importance\n",
    "            val_loss, val_acc = self.evaluate(val_inputs, val_outputs, print_acc=False)\n",
    "            if n_epoch % 10 ==0 and not silent: \n",
    "                print(\"Epoch %d/%d - Loss: %.3f - Acc: %.3f\" % (n_epoch + 1, self.epoch, epoch_loss, epoch_acc))\n",
    "                print(\"              Val_loss: %.3f - Val_acc: %.3f\" % (val_loss, val_acc))\n",
    "            losses.append(epoch_loss)\n",
    "            accuracies.append(epoch_acc)\n",
    "            val_losses.append(val_loss)\n",
    "            val_accuracies.append(val_acc)\n",
    "            if early_stop:\n",
    "                if val_loss < lowest_val_loss:\n",
    "                    lowest_val_loss = val_loss\n",
    "                    weights = self.model.state_dict()\n",
    "\n",
    "        if early_stop:\n",
    "            self.model.load_state_dict(weights)    \n",
    "\n",
    "        return {\"losses\": losses, \"accuracies\": accuracies, \"val_losses\": val_losses, \"val_accuracies\": val_accuracies}\n",
    "        \n",
    "    def evaluate(self, inputs, outputs, print_acc=True):\n",
    "        if torch.is_tensor(inputs):\n",
    "            inputs = self.input_transform(inputs)\n",
    "        else:\n",
    "            inputs = self.input_transform(torch.tensor(inputs, dtype=torch.float))\n",
    "            outputs = torch.tensor(outputs, dtype=torch.int64)\n",
    "        self.model.eval()\n",
    "        batch_indices = list(range(inputs.shape[0]))\n",
    "        batch_indices = create_chunks(batch_indices, chunk_size=self.batch_size)\n",
    "        acc = 0\n",
    "        losses = 0\n",
    "        for batch in batch_indices:\n",
    "            batch_importance = len(batch) / len(outputs)\n",
    "            batch_input = inputs[batch]\n",
    "            batch_output = outputs[batch]\n",
    "            with torch.no_grad():\n",
    "                batch_predictions = self.model(batch_input)\n",
    "                loss = nn.CrossEntropyLoss()(batch_predictions, batch_output)\n",
    "            # compute accuracy of classification \n",
    "            batch_acc = np.true_divide(torch.sum(torch.argmax(batch_predictions, axis=-1) == batch_output), len(batch_predictions))\n",
    "            losses += loss.detach().cpu().item() * batch_importance\n",
    "            acc += batch_acc.detach().cpu().item() * batch_importance\n",
    "        if print_acc:\n",
    "            print(\"Accuracy: %.3f\" % acc)\n",
    "        return losses, acc"
   ]
  },
  {
   "cell_type": "code",
   "execution_count": 29,
   "metadata": {},
   "outputs": [],
   "source": [
    "from sklearn.model_selection import train_test_split,KFold\n",
    "def Kfold(model_func,k,Xs,ys,test_Xs,test_ys,epochs,draw_curve=True,early_stop=False,batchsize=128, optimizer='adam',lr=1e-3,l2=False,\n",
    "          input_shape=(-1,1024)):\n",
    "    \"\"\" Do Kfold cross validation with the specified arguments\n",
    "    model_func: function. \n",
    "        Constructor of the model.\n",
    "    k: int. The number of fold\n",
    "    Xs: np.array, The shape of Xs.reshape(input_shape) should be (ndata,nfeatures)\n",
    "    ys: np.array shape (ndata,)\n",
    "    test_Xs: np.array, The shape of test_Xs.reshape(input_shape) should be (ndata,nfeatures)\n",
    "    test_ys: np.array shape (ndata,)\n",
    "    epoch: int\n",
    "    batch_size: int\n",
    "    early_stop: bool\n",
    "    lr: float. learning_rate\n",
    "    l2: bool\n",
    "    optimizer: 'adam' or 'sgd'\n",
    "    input_shape: tuple\n",
    "    \"\"\"\n",
    "    # reshape\n",
    "    Xs = Xs.reshape(input_shape)\n",
    "    test_Xs = test_Xs.reshape(input_shape)\n",
    "    \n",
    "    # The total number of examples for training the network\n",
    "    total_num=len(Xs)\n",
    "    # Built in K-fold function in Sci-Kit Learn\n",
    "    kf=KFold(n_splits=k,shuffle=True)\n",
    "    train_acc_all=[]\n",
    "    test_acc_all=[]\n",
    "    fold=0\n",
    "    # the following part is the k-fold operation\n",
    "    for train_selector,val_selector in kf.split(range(total_num)):\n",
    "        fold+=1\n",
    "        print(f'Fold #{fold}')\n",
    "        # Decide training examples and validation examples for this fold\n",
    "        train_Xs=Xs[train_selector]\n",
    "        val_Xs=Xs[val_selector]\n",
    "        train_ys=ys[train_selector]\n",
    "        val_ys=ys[val_selector]\n",
    "        \n",
    "        model=model_func()\n",
    "        ### Use the trainer class to train the model ###\n",
    "        trainer = Trainer(model,optimizer,lr,epochs,batchsize)\n",
    "        log = trainer.train(train_Xs,train_ys,val_Xs,val_ys)\n",
    "        \n",
    "        if draw_curve:\n",
    "            plt.figure()\n",
    "            plt.plot(log[\"losses\"], label=\"losses\")\n",
    "            plt.plot(log[\"val_losses\"], label=\"validation_losses\")\n",
    "            plt.legend()\n",
    "            plt.title(f'Fold #{fold} loss')\n",
    "\n",
    "            plt.figure()\n",
    "            plt.plot(log[\"accuracies\"], label=\"accuracies\")\n",
    "            plt.plot(log[\"val_accuracies\"], label=\"validation_accuracies\")\n",
    "            plt.legend()\n",
    "            plt.title(f'Fold #{fold} accuracy')\n",
    "        \n",
    "        # Report result for this fold\n",
    "        if early_stop:\n",
    "            report_idx= np.argmin(log[\"val_losses\"])      \n",
    "        else:\n",
    "            report_idx=-1\n",
    "        test_acc=trainer.evaluate(test_Xs,test_ys,print_acc=False)[1]\n",
    "        train_acc_all.append(log[\"accuracies\"][report_idx])\n",
    "        test_acc_all.append(test_acc)\n",
    "        print(\"Train accuracy:\",log[\"accuracies\"][report_idx])\n",
    "        print(\"Validation accuracy:\",log[\"val_accuracies\"][report_idx])\n",
    "        print(\"Test accuracy:\",test_acc)\n",
    "        \n",
    "    print(\"Final results:\")\n",
    "    print(\"Training accuracy:%f+-%f\"%(np.average(train_acc_all),np.std(train_acc_all)))\n",
    "    print(\"Testing accuracy:%f+-%f\"%(np.average(test_acc_all),np.std(test_acc_all)))"
   ]
  },
  {
   "cell_type": "code",
   "execution_count": 30,
   "metadata": {},
   "outputs": [
    {
     "data": {
      "text/plain": [
       "32.0"
      ]
     },
     "execution_count": 30,
     "metadata": {},
     "output_type": "execute_result"
    }
   ],
   "source": [
    "Hin_c = 32\n",
    "padding_c = 2\n",
    "dilation_c = 1\n",
    "kernel_size_c = 5\n",
    "stride_c = 1\n",
    "Hout_c = dimCalc(Hin_c,padding_c,dilation_c,kernel_size_c,stride_c)\n",
    "Hout_c"
   ]
  },
  {
   "cell_type": "code",
   "execution_count": 31,
   "metadata": {},
   "outputs": [],
   "source": [
    "from torch import nn\n",
    "import torch\n",
    "class CNN_FC_Net_Qc(nn.Module):\n",
    "    def __init__(self):\n",
    "        super(CNN_FC_Net_Qc, self).__init__()\n",
    "        self.layers = nn.Sequential(\n",
    "            nn.Conv2d(1,3,kernel_size=5,stride=1,padding=2),\n",
    "            nn.Flatten(),\n",
    "            nn.Linear(3*32**2,90),\n",
    "            nn.ReLU(),\n",
    "            nn.Linear(90,10),\n",
    "            nn.Softmax(dim=-1),\n",
    "        )\n",
    "        \n",
    "    def forward(self, x):\n",
    "        return self.layers(x)"
   ]
  },
  {
   "cell_type": "code",
   "execution_count": 32,
   "metadata": {},
   "outputs": [],
   "source": [
    "model = CNN_FC_Net_Qc()"
   ]
  },
  {
   "cell_type": "code",
   "execution_count": 33,
   "metadata": {},
   "outputs": [
    {
     "name": "stdout",
     "output_type": "stream",
     "text": [
      "Fold #1\n"
     ]
    },
    {
     "name": "stderr",
     "output_type": "stream",
     "text": [
      "  2%|▏         | 1/50 [00:15<12:26, 15.24s/it]"
     ]
    },
    {
     "name": "stdout",
     "output_type": "stream",
     "text": [
      "Epoch 1/50 - Loss: 1.693 - Acc: 0.786\n",
      "              Val_loss: 1.628 - Val_acc: 0.839\n"
     ]
    },
    {
     "name": "stderr",
     "output_type": "stream",
     "text": [
      " 22%|██▏       | 11/50 [04:38<19:12, 29.56s/it]"
     ]
    },
    {
     "name": "stdout",
     "output_type": "stream",
     "text": [
      "Epoch 11/50 - Loss: 1.491 - Acc: 0.972\n",
      "              Val_loss: 1.497 - Val_acc: 0.965\n"
     ]
    },
    {
     "name": "stderr",
     "output_type": "stream",
     "text": [
      " 42%|████▏     | 21/50 [09:19<13:36, 28.16s/it]"
     ]
    },
    {
     "name": "stdout",
     "output_type": "stream",
     "text": [
      "Epoch 21/50 - Loss: 1.480 - Acc: 0.982\n",
      "              Val_loss: 1.492 - Val_acc: 0.969\n"
     ]
    },
    {
     "name": "stderr",
     "output_type": "stream",
     "text": [
      " 62%|██████▏   | 31/50 [13:46<08:31, 26.90s/it]"
     ]
    },
    {
     "name": "stdout",
     "output_type": "stream",
     "text": [
      "Epoch 31/50 - Loss: 1.474 - Acc: 0.988\n",
      "              Val_loss: 1.490 - Val_acc: 0.971\n"
     ]
    },
    {
     "name": "stderr",
     "output_type": "stream",
     "text": [
      " 82%|████████▏ | 41/50 [18:35<04:12, 28.00s/it]"
     ]
    },
    {
     "name": "stdout",
     "output_type": "stream",
     "text": [
      "Epoch 41/50 - Loss: 1.472 - Acc: 0.989\n",
      "              Val_loss: 1.489 - Val_acc: 0.972\n"
     ]
    },
    {
     "name": "stderr",
     "output_type": "stream",
     "text": [
      "                                               \r"
     ]
    },
    {
     "name": "stdout",
     "output_type": "stream",
     "text": [
      "func:'train'  took: 1407.2649 sec\n",
      "Train accuracy: 0.9909249999999997\n",
      "Validation accuracy: 0.9711999999999986\n",
      "Test accuracy: 0.9728000000000007\n",
      "Fold #2\n"
     ]
    },
    {
     "name": "stderr",
     "output_type": "stream",
     "text": [
      "  2%|▏         | 1/50 [00:26<21:42, 26.58s/it]"
     ]
    },
    {
     "name": "stdout",
     "output_type": "stream",
     "text": [
      "Epoch 1/50 - Loss: 1.671 - Acc: 0.810\n",
      "              Val_loss: 1.559 - Val_acc: 0.907\n"
     ]
    },
    {
     "name": "stderr",
     "output_type": "stream",
     "text": [
      " 22%|██▏       | 11/50 [05:03<17:55, 27.58s/it]"
     ]
    },
    {
     "name": "stdout",
     "output_type": "stream",
     "text": [
      "Epoch 11/50 - Loss: 1.489 - Acc: 0.973\n",
      "              Val_loss: 1.503 - Val_acc: 0.959\n"
     ]
    },
    {
     "name": "stderr",
     "output_type": "stream",
     "text": [
      " 42%|████▏     | 21/50 [09:54<13:37, 28.18s/it]"
     ]
    },
    {
     "name": "stdout",
     "output_type": "stream",
     "text": [
      "Epoch 21/50 - Loss: 1.478 - Acc: 0.984\n",
      "              Val_loss: 1.494 - Val_acc: 0.967\n"
     ]
    },
    {
     "name": "stderr",
     "output_type": "stream",
     "text": [
      " 62%|██████▏   | 31/50 [14:58<09:14, 29.17s/it]"
     ]
    },
    {
     "name": "stdout",
     "output_type": "stream",
     "text": [
      "Epoch 31/50 - Loss: 1.473 - Acc: 0.988\n",
      "              Val_loss: 1.491 - Val_acc: 0.970\n"
     ]
    },
    {
     "name": "stderr",
     "output_type": "stream",
     "text": [
      " 82%|████████▏ | 41/50 [20:58<05:13, 34.80s/it]"
     ]
    },
    {
     "name": "stdout",
     "output_type": "stream",
     "text": [
      "Epoch 41/50 - Loss: 1.471 - Acc: 0.990\n",
      "              Val_loss: 1.491 - Val_acc: 0.970\n"
     ]
    },
    {
     "name": "stderr",
     "output_type": "stream",
     "text": [
      "                                               \r"
     ]
    },
    {
     "name": "stdout",
     "output_type": "stream",
     "text": [
      "func:'train'  took: 1548.0335 sec\n",
      "Train accuracy: 0.9914750000000001\n",
      "Validation accuracy: 0.9706499999999985\n",
      "Test accuracy: 0.9723000000000006\n",
      "Fold #3\n"
     ]
    },
    {
     "name": "stderr",
     "output_type": "stream",
     "text": [
      "  2%|▏         | 1/50 [00:29<24:03, 29.45s/it]"
     ]
    },
    {
     "name": "stdout",
     "output_type": "stream",
     "text": [
      "Epoch 1/50 - Loss: 1.634 - Acc: 0.847\n",
      "              Val_loss: 1.548 - Val_acc: 0.918\n"
     ]
    },
    {
     "name": "stderr",
     "output_type": "stream",
     "text": [
      " 22%|██▏       | 11/50 [05:20<17:41, 27.21s/it]"
     ]
    },
    {
     "name": "stdout",
     "output_type": "stream",
     "text": [
      "Epoch 11/50 - Loss: 1.488 - Acc: 0.974\n",
      "              Val_loss: 1.499 - Val_acc: 0.963\n"
     ]
    },
    {
     "name": "stderr",
     "output_type": "stream",
     "text": [
      " 42%|████▏     | 21/50 [10:23<17:15, 35.70s/it]"
     ]
    },
    {
     "name": "stdout",
     "output_type": "stream",
     "text": [
      "Epoch 21/50 - Loss: 1.476 - Acc: 0.986\n",
      "              Val_loss: 1.491 - Val_acc: 0.970\n"
     ]
    },
    {
     "name": "stderr",
     "output_type": "stream",
     "text": [
      " 62%|██████▏   | 31/50 [15:09<08:02, 25.37s/it]"
     ]
    },
    {
     "name": "stdout",
     "output_type": "stream",
     "text": [
      "Epoch 31/50 - Loss: 1.472 - Acc: 0.990\n",
      "              Val_loss: 1.488 - Val_acc: 0.974\n"
     ]
    },
    {
     "name": "stderr",
     "output_type": "stream",
     "text": [
      " 82%|████████▏ | 41/50 [19:00<03:26, 22.97s/it]"
     ]
    },
    {
     "name": "stdout",
     "output_type": "stream",
     "text": [
      "Epoch 41/50 - Loss: 1.469 - Acc: 0.992\n",
      "              Val_loss: 1.488 - Val_acc: 0.974\n"
     ]
    },
    {
     "name": "stderr",
     "output_type": "stream",
     "text": [
      "                                               \r"
     ]
    },
    {
     "name": "stdout",
     "output_type": "stream",
     "text": [
      "func:'train'  took: 1378.0582 sec\n",
      "Train accuracy: 0.9925250000000003\n",
      "Validation accuracy: 0.9733499999999983\n",
      "Test accuracy: 0.9710000000000005\n",
      "Final results:\n",
      "Training accuracy:0.991642+-0.000664\n",
      "Testing accuracy:0.972033+-0.000759\n"
     ]
    },
    {
     "data": {
      "image/png": "[encoded data removed]",
      "text/plain": [
       "<Figure size 432x288 with 1 Axes>"
      ]
     },
     "metadata": {
      "needs_background": "light"
     },
     "output_type": "display_data"
    },
    {
     "data": {
      "image/png": "[encoded data removed]",
      "text/plain": [
       "<Figure size 432x288 with 1 Axes>"
      ]
     },
     "metadata": {
      "needs_background": "light"
     },
     "output_type": "display_data"
    },
    {
     "data": {
      "image/png": "[encoded data removed]",
      "text/plain": [
       "<Figure size 432x288 with 1 Axes>"
      ]
     },
     "metadata": {
      "needs_background": "light"
     },
     "output_type": "display_data"
    },
    {
     "data": {
      "image/png": "[encoded data removed]",
      "text/plain": [
       "<Figure size 432x288 with 1 Axes>"
      ]
     },
     "metadata": {
      "needs_background": "light"
     },
     "output_type": "display_data"
    },
    {
     "data": {
      "image/png": "[encoded data removed]",
      "text/plain": [
       "<Figure size 432x288 with 1 Axes>"
      ]
     },
     "metadata": {
      "needs_background": "light"
     },
     "output_type": "display_data"
    },
    {
     "data": {
      "image/png": "[encoded data removed]",
      "text/plain": [
       "<Figure size 432x288 with 1 Axes>"
      ]
     },
     "metadata": {
      "needs_background": "light"
     },
     "output_type": "display_data"
    }
   ],
   "source": [
    "Kfold(CNN_FC_Net_Qc,3,train_X,train_y,test_X,test_y,\n",
    "      epochs=50,input_shape=(-1,1,32,32),l2=True)"
   ]
  },
  {
   "cell_type": "markdown",
   "metadata": {},
   "source": [
    "The testing accuracy for this Convolutional Neural Network is 0.972033 $\\pm$ 0.000759; from the figure shown above, the model might be a little bit overfitting."
   ]
  },
  {
   "cell_type": "markdown",
   "metadata": {},
   "source": [
    "### Question d)"
   ]
  },
  {
   "cell_type": "code",
   "execution_count": 34,
   "metadata": {},
   "outputs": [],
   "source": [
    "from torch import nn\n",
    "import torch\n",
    "class CNN_FC_Net_Qd(nn.Module):\n",
    "    def __init__(self):\n",
    "        super(CNN_FC_Net_Qd, self).__init__()\n",
    "        self.layers = nn.Sequential(\n",
    "            nn.Conv2d(1,8,kernel_size=3,stride=1,padding=1),\n",
    "            nn.ReLU(),\n",
    "            nn.MaxPool2d(kernel_size=2),\n",
    "            nn.Conv2d(8,16,kernel_size=5,stride=1,padding=0),\n",
    "            nn.ReLU(),\n",
    "            nn.MaxPool2d(kernel_size=2),\n",
    "            nn.Flatten(),\n",
    "            nn.Linear(16*6**2,120),\n",
    "            nn.ReLU(),\n",
    "            nn.Linear(120,84),\n",
    "            nn.ReLU(),\n",
    "            nn.Linear(84,10),\n",
    "            nn.Softmax(dim=-1),\n",
    "        )\n",
    "        \n",
    "    def forward(self, x):\n",
    "        return self.layers(x)"
   ]
  },
  {
   "cell_type": "code",
   "execution_count": 35,
   "metadata": {},
   "outputs": [
    {
     "name": "stdout",
     "output_type": "stream",
     "text": [
      "Fold #1\n"
     ]
    },
    {
     "name": "stderr",
     "output_type": "stream",
     "text": [
      "  2%|▏         | 1/50 [00:39<31:58, 39.15s/it]"
     ]
    },
    {
     "name": "stdout",
     "output_type": "stream",
     "text": [
      "Epoch 1/50 - Loss: 1.848 - Acc: 0.624\n",
      "              Val_loss: 1.711 - Val_acc: 0.751\n"
     ]
    },
    {
     "name": "stderr",
     "output_type": "stream",
     "text": [
      " 22%|██▏       | 11/50 [05:26<18:34, 28.57s/it]"
     ]
    },
    {
     "name": "stdout",
     "output_type": "stream",
     "text": [
      "Epoch 11/50 - Loss: 1.478 - Acc: 0.984\n",
      "              Val_loss: 1.483 - Val_acc: 0.979\n"
     ]
    },
    {
     "name": "stderr",
     "output_type": "stream",
     "text": [
      " 42%|████▏     | 21/50 [10:03<13:17, 27.51s/it]"
     ]
    },
    {
     "name": "stdout",
     "output_type": "stream",
     "text": [
      "Epoch 21/50 - Loss: 1.471 - Acc: 0.990\n",
      "              Val_loss: 1.485 - Val_acc: 0.977\n"
     ]
    },
    {
     "name": "stderr",
     "output_type": "stream",
     "text": [
      " 62%|██████▏   | 31/50 [14:31<08:31, 26.90s/it]"
     ]
    },
    {
     "name": "stdout",
     "output_type": "stream",
     "text": [
      "Epoch 31/50 - Loss: 1.468 - Acc: 0.994\n",
      "              Val_loss: 1.478 - Val_acc: 0.983\n"
     ]
    },
    {
     "name": "stderr",
     "output_type": "stream",
     "text": [
      " 82%|████████▏ | 41/50 [19:09<04:10, 27.79s/it]"
     ]
    },
    {
     "name": "stdout",
     "output_type": "stream",
     "text": [
      "Epoch 41/50 - Loss: 1.466 - Acc: 0.995\n",
      "              Val_loss: 1.474 - Val_acc: 0.987\n"
     ]
    },
    {
     "name": "stderr",
     "output_type": "stream",
     "text": [
      "                                               \r"
     ]
    },
    {
     "name": "stdout",
     "output_type": "stream",
     "text": [
      "func:'train'  took: 1420.4927 sec\n",
      "Train accuracy: 0.9957749999999989\n",
      "Validation accuracy: 0.987399999999998\n",
      "Test accuracy: 0.989400000000001\n",
      "Fold #2\n"
     ]
    },
    {
     "name": "stderr",
     "output_type": "stream",
     "text": [
      "  2%|▏         | 1/50 [00:24<19:59, 24.48s/it]"
     ]
    },
    {
     "name": "stdout",
     "output_type": "stream",
     "text": [
      "Epoch 1/50 - Loss: 1.724 - Acc: 0.758\n",
      "              Val_loss: 1.544 - Val_acc: 0.921\n"
     ]
    },
    {
     "name": "stderr",
     "output_type": "stream",
     "text": [
      " 22%|██▏       | 11/50 [04:54<19:18, 29.71s/it]"
     ]
    },
    {
     "name": "stdout",
     "output_type": "stream",
     "text": [
      "Epoch 11/50 - Loss: 1.480 - Acc: 0.982\n",
      "              Val_loss: 1.483 - Val_acc: 0.979\n"
     ]
    },
    {
     "name": "stderr",
     "output_type": "stream",
     "text": [
      " 42%|████▏     | 21/50 [10:25<16:48, 34.79s/it]"
     ]
    },
    {
     "name": "stdout",
     "output_type": "stream",
     "text": [
      "Epoch 21/50 - Loss: 1.471 - Acc: 0.990\n",
      "              Val_loss: 1.478 - Val_acc: 0.983\n"
     ]
    },
    {
     "name": "stderr",
     "output_type": "stream",
     "text": [
      " 62%|██████▏   | 31/50 [16:40<13:04, 41.28s/it]"
     ]
    },
    {
     "name": "stdout",
     "output_type": "stream",
     "text": [
      "Epoch 31/50 - Loss: 1.468 - Acc: 0.993\n",
      "              Val_loss: 1.477 - Val_acc: 0.984\n"
     ]
    },
    {
     "name": "stderr",
     "output_type": "stream",
     "text": [
      " 82%|████████▏ | 41/50 [23:53<06:22, 42.47s/it]"
     ]
    },
    {
     "name": "stdout",
     "output_type": "stream",
     "text": [
      "Epoch 41/50 - Loss: 1.467 - Acc: 0.994\n",
      "              Val_loss: 1.476 - Val_acc: 0.985\n"
     ]
    },
    {
     "name": "stderr",
     "output_type": "stream",
     "text": [
      "                                               \r"
     ]
    },
    {
     "name": "stdout",
     "output_type": "stream",
     "text": [
      "func:'train'  took: 1790.9661 sec\n",
      "Train accuracy: 0.9950749999999994\n",
      "Validation accuracy: 0.9860999999999979\n",
      "Test accuracy: 0.9888000000000009\n",
      "Fold #3\n"
     ]
    },
    {
     "name": "stderr",
     "output_type": "stream",
     "text": [
      "  2%|▏         | 1/50 [00:29<24:19, 29.79s/it]"
     ]
    },
    {
     "name": "stdout",
     "output_type": "stream",
     "text": [
      "Epoch 1/50 - Loss: 1.723 - Acc: 0.755\n",
      "              Val_loss: 1.613 - Val_acc: 0.850\n"
     ]
    },
    {
     "name": "stderr",
     "output_type": "stream",
     "text": [
      " 22%|██▏       | 11/50 [06:06<23:14, 35.77s/it]"
     ]
    },
    {
     "name": "stdout",
     "output_type": "stream",
     "text": [
      "Epoch 11/50 - Loss: 1.475 - Acc: 0.986\n",
      "              Val_loss: 1.483 - Val_acc: 0.978\n"
     ]
    },
    {
     "name": "stderr",
     "output_type": "stream",
     "text": [
      " 42%|████▏     | 21/50 [11:06<13:32, 28.03s/it]"
     ]
    },
    {
     "name": "stdout",
     "output_type": "stream",
     "text": [
      "Epoch 21/50 - Loss: 1.471 - Acc: 0.990\n",
      "              Val_loss: 1.477 - Val_acc: 0.984\n"
     ]
    },
    {
     "name": "stderr",
     "output_type": "stream",
     "text": [
      " 62%|██████▏   | 31/50 [15:33<09:21, 29.54s/it]"
     ]
    },
    {
     "name": "stdout",
     "output_type": "stream",
     "text": [
      "Epoch 31/50 - Loss: 1.468 - Acc: 0.994\n",
      "              Val_loss: 1.474 - Val_acc: 0.986\n"
     ]
    },
    {
     "name": "stderr",
     "output_type": "stream",
     "text": [
      " 82%|████████▏ | 41/50 [20:23<04:29, 29.95s/it]"
     ]
    },
    {
     "name": "stdout",
     "output_type": "stream",
     "text": [
      "Epoch 41/50 - Loss: 1.466 - Acc: 0.995\n",
      "              Val_loss: 1.474 - Val_acc: 0.987\n"
     ]
    },
    {
     "name": "stderr",
     "output_type": "stream",
     "text": [
      "                                               \r"
     ]
    },
    {
     "name": "stdout",
     "output_type": "stream",
     "text": [
      "func:'train'  took: 1514.5724 sec\n",
      "Train accuracy: 0.9956749999999993\n",
      "Validation accuracy: 0.9846999999999981\n",
      "Test accuracy: 0.9864000000000013\n",
      "Final results:\n",
      "Training accuracy:0.995508+-0.000309\n",
      "Testing accuracy:0.988200+-0.001296\n"
     ]
    },
    {
     "data": {
      "image/png": "[encoded data removed]",
      "text/plain": [
       "<Figure size 432x288 with 1 Axes>"
      ]
     },
     "metadata": {
      "needs_background": "light"
     },
     "output_type": "display_data"
    },
    {
     "data": {
      "image/png": "[encoded data removed]",
      "text/plain": [
       "<Figure size 432x288 with 1 Axes>"
      ]
     },
     "metadata": {
      "needs_background": "light"
     },
     "output_type": "display_data"
    },
    {
     "data": {
      "image/png": "[encoded data removed]",
      "text/plain": [
       "<Figure size 432x288 with 1 Axes>"
      ]
     },
     "metadata": {
      "needs_background": "light"
     },
     "output_type": "display_data"
    },
    {
     "data": {
      "image/png": "[encoded data removed]",
      "text/plain": [
       "<Figure size 432x288 with 1 Axes>"
      ]
     },
     "metadata": {
      "needs_background": "light"
     },
     "output_type": "display_data"
    },
    {
     "data": {
      "image/png": "[encoded data removed]",
      "text/plain": [
       "<Figure size 432x288 with 1 Axes>"
      ]
     },
     "metadata": {
      "needs_background": "light"
     },
     "output_type": "display_data"
    },
    {
     "data": {
      "image/png": "[encoded data removed]",
      "text/plain": [
       "<Figure size 432x288 with 1 Axes>"
      ]
     },
     "metadata": {
      "needs_background": "light"
     },
     "output_type": "display_data"
    }
   ],
   "source": [
    "Kfold(CNN_FC_Net_Qd,3,train_X,train_y,test_X,test_y,\n",
    "      epochs=50,input_shape=(-1,1,32,32),l2=True)"
   ]
  },
  {
   "cell_type": "markdown",
   "metadata": {},
   "source": [
    "The testing accuracy for this Convolutional Neural Network is 0.988200 $\\pm$ 0.001296; from the figure shown above, the model show no sign of underfitting or overfitting."
   ]
  },
  {
   "cell_type": "code",
   "execution_count": null,
   "metadata": {},
   "outputs": [],
   "source": []
  }
 ],
 "metadata": {
  "kernelspec": {
   "display_name": "ml_class",
   "language": "python",
   "name": "ml_class"
  },
  "language_info": {
   "codemirror_mode": {
    "name": "ipython",
    "version": 3
   },
   "file_extension": ".py",
   "mimetype": "text/x-python",
   "name": "python",
   "nbconvert_exporter": "python",
   "pygments_lexer": "ipython3",
   "version": "3.7.12"
  }
 },
 "nbformat": 4,
 "nbformat_minor": 4
}
